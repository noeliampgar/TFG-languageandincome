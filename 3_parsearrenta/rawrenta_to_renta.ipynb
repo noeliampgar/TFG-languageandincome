{
 "cells": [
  {
   "cell_type": "code",
   "execution_count": 1,
   "metadata": {},
   "outputs": [
    {
     "name": "stdout",
     "output_type": "stream",
     "text": [
      "Checking required modules\n",
      "pymongo  found\n",
      "pprint  found\n",
      "Done!\n"
     ]
    }
   ],
   "source": [
    "import sys\n",
    "import os.path\n",
    "from subprocess import check_call\n",
    "import importlib\n",
    "import os\n",
    "\n",
    "modules = [\"pymongo\",\"pprint\"]\n",
    "print(\"Checking required modules\")\n",
    "for m in modules:\n",
    "    torch_loader = importlib.util.find_spec(m)\n",
    "    if torch_loader is not None:\n",
    "        print(m,\" found\")\n",
    "    else:\n",
    "        print(m,\" not found, installing\")\n",
    "        if 'google.colab' in sys.modules:\n",
    "            check_call([\"pip\", \"install\", \"-q\", m])\n",
    "        else:\n",
    "            check_call([sys.executable, \"-m\", \"pip\", \"install\", \"--user\", m])\n",
    "print(\"Done!\")"
   ]
  },
  {
   "cell_type": "code",
   "execution_count": 2,
   "metadata": {},
   "outputs": [],
   "source": [
    "from pprint import pprint # para mostrar los json bonitos\n",
    "from pymongo import MongoClient\n",
    "\n",
    "# conexión a mongo\n",
    "servidor = 'localhost'\n",
    "puerto = 27017\n",
    "\n",
    "basededatos = 'mirko'\n",
    "\n",
    "client = MongoClient(servidor, puerto)\n",
    "db = client[basededatos]"
   ]
  },
  {
   "cell_type": "code",
   "execution_count": 3,
   "metadata": {},
   "outputs": [
    {
     "name": "stdout",
     "output_type": "stream",
     "text": [
      "Colección user: 1697 documentos cargados con éxito y 0 errores\n"
     ]
    }
   ],
   "source": [
    "import json # para transformar la línea leida (string) a json\n",
    "import urllib.request # para leer de la URL línea a línea\n",
    "\n",
    "\n",
    "def carga_desde_fichero(db,fichero,coleccion):\n",
    "    db[coleccion].drop() # la borramos\n",
    "    exito,error = 0,0\n",
    "    # cargamos los datos desde el fichero\n",
    "    try:\n",
    "        with urllib.request.urlopen(fichero) as f:\n",
    "        \n",
    "            for line in f:\n",
    "                line2 = line.decode(\"UTF-8\").replace(\"$\",\"\")\n",
    "                res = db[coleccion].insert_one(json.loads(line2))\n",
    "                if res.acknowledged:\n",
    "                    exito+=1\n",
    "                else:\n",
    "                    error+=1\n",
    "        print(f\"Colección {coleccion}: {exito} documentos cargados con éxito y {error} errores\")\n",
    "    except urllib.error.URLError as e:\n",
    "        print(e.reason)\n",
    "    return\n",
    "   \n",
    "\n",
    "\n",
    "fichero_user = \"https://raw.githubusercontent.com/RafaelCaballero/tdm/master/datos/userrentaraw.json\"\n",
    "carga_desde_fichero(db,fichero_user,\"user\")\n"
   ]
  },
  {
   "cell_type": "markdown",
   "metadata": {},
   "source": [
    "Ejemplo:\n",
    "\n",
    "renta: \"Almería, Almería\\nDistrito: 07 Sección: 016\\nRenta mediana 201812.950 €Cambio 2015-18+12 %\\nLa renta de esta sección está entre el 18 y el 25% más pobre de España y el 36 y el 45% más rico de su comunidad\"\n",
    "\n",
    "convertir en:\n",
    "\n",
    "\"datosrenta\" : {\"Localidad\": \"Almería\"\n",
    "\"Provincia\": \"Almería\"\n",
    "\"Distrito\": \"07\"\n",
    "\"Sección\": \"016\"\n",
    "\"RentaMediana\": 201812.9,\n",
    "\"cambio1518\": +12\n",
    "\"rentapais\":[18,25]\n",
    "\"rentacom\":[55,64]\n",
    "}\n",
    "\n",
    "\n"
   ]
  },
  {
   "cell_type": "code",
   "execution_count": 4,
   "metadata": {},
   "outputs": [],
   "source": [
    "import re\n",
    "def quita_barra(dir):\n",
    "    if \"/\" in dir:\n",
    "        #print(\"Quitando barra de \",dir)\n",
    "        pos = dir.index(\"/\")\n",
    "        #print(\"/ pos\",pos)\n",
    "        if \",\" in dir[pos:]:\n",
    "            poscoma = dir[pos:].index(\",\")\n",
    "            #print(\"pos coma\",poscoma)\n",
    "            dir = dir[:pos]+dir[(pos+poscoma):]\n",
    "            #print(\"dir cambiado\",dir)\n",
    "            dir = quita_barra(dir) # por si hay más barras\n",
    "    return dir\n",
    "\n",
    "cursor = db.user.find()\n",
    "for doc in cursor:\n",
    "    renta = quita_barra(doc[\"renta\"])\n",
    "    \n",
    "    #provincias pais vasco y navarra\n",
    "    provinciasQuitar = [\"Gipuzcoa\",\"Bizkaia\",\"Álava\",\"Navarra\"]\n",
    "    \n",
    "    datosrenta =  {}\n",
    "    #print(renta)\n",
    "    if renta==\"\":\n",
    "        db.user.delete_one({\"_id\":doc[\"_id\"]})\n",
    "    # tambien hay que borrar los del pais vasco\n",
    "    \n",
    "    elif any([no in renta for no in provinciasQuitar]):\n",
    "        db.user.delete_one({\"_id\":doc[\"_id\"]})\n",
    "    else:\n",
    "        # localidad\n",
    "        posDistrito = renta.index(\"Distrito\")\n",
    "        hastaDistrito = renta[0:(posDistrito-1)]\n",
    "        posUltComa = hastaDistrito.rindex(\",\")\n",
    "        localidad = hastaDistrito[:posUltComa]\n",
    "        datosrenta[\"localidad\"]=localidad.strip()\n",
    "        \n",
    "        # provincia\n",
    "        datosrenta[\"provincia\"]= hastaDistrito[posUltComa+1:].strip()\n",
    "        \n",
    "        # distrito\n",
    "        trasDistrito = renta[posDistrito:]\n",
    "        posdospuntos = trasDistrito.index(\":\")\n",
    "        posSeccion = trasDistrito.index(\"Sección:\")\n",
    "        datosrenta[\"distrito\"] = trasDistrito[(posdospuntos+1):posSeccion].strip()\n",
    "        \n",
    "        # sección\n",
    "        trasSeccion = trasDistrito[posSeccion:]\n",
    "        posdospuntos2 = trasSeccion.index(\":\")\n",
    "        posRentaMed = trasSeccion.index(\"Renta mediana 2018\")\n",
    "        datosrenta[\"sección\"] = trasSeccion[(posdospuntos2+1):posRentaMed].strip()\n",
    "        \n",
    "        # renta mediana\n",
    "        posIni = posRentaMed + len(\"Renta mediana 2018\")\n",
    "        posEuro = trasSeccion.index(\"€\")\n",
    "        datosrenta[\"renta mediana\"] = trasSeccion[posIni:posEuro].strip()\n",
    "        \n",
    "        # cambio1518\n",
    "        posCambio1518 = renta.index(\"Cambio 2015-18\")\n",
    "        posIni=posCambio1518+len(\"Cambio 2015-18\")\n",
    "        trasCambio=renta[posIni:]\n",
    "        posSiguiente=trasCambio.index(\"%\")\n",
    "        datosrenta[\"cambio1518\"] = trasCambio[:posSiguiente-1].strip()\n",
    "\n",
    "        # No todas las rentas presentan información de riqueza y pobreza\n",
    "        infoPobre= trasCambio[posSiguiente+1:]\n",
    "        \n",
    "        # Pobre España        \n",
    "        if (len(infoPobre)):\n",
    "            # Separacion (cualquiera) entre números de España y comunidad\n",
    "            posSeparacion=infoPobre.find(\"%\")\n",
    "            separacion=infoPobre[:posSeparacion] \n",
    "            listaPais=[]\n",
    "            # Encuentro los enteros correspondientes a España y los añado a una lista\n",
    "            mapa=(map(int, re.findall(r'\\d+', separacion)))\n",
    "            nex=next (mapa,-1)\n",
    "            while(nex!=-1):\n",
    "                listaPais.append(nex)\n",
    "                nex=next(mapa,-1)\n",
    "            #listaPais: lista con el porcentaje o intervalo de porcentajes de pobreza respecto al país \n",
    "\n",
    "            #Observo si el porcentaje es de pobreza o de riqueza \n",
    "            pobreORico=(infoPobre[(posSeparacion+6):])[:5].strip()\n",
    "            #print(pobreORico,'|',listaPais)\n",
    "\n",
    "            if(pobreORico==\"pobre\"):\n",
    "                datosrenta[\"rentapais\"]=listaPais\n",
    "            elif(pobreORico==\"rico\"):\n",
    "                listaPais.reverse()     \n",
    "                datosrenta[\"rentapais\"]=[100-i for i in listaPais]\n",
    "            \n",
    "\n",
    "            \n",
    "            # Pobre comunidad  \n",
    "            # Texto siguiente a la separación\n",
    "            luego=infoPobre[posSeparacion+1:]\n",
    "            posPobreCom=luego.find(\"%\")\n",
    "\n",
    "            # Encuentro los enteros correspondientes a la comunidad y los añado a una lista\n",
    "            mapa=(map(int, re.findall(r'\\d+', luego)))\n",
    "            listaCom=[]\n",
    "            nex=next (mapa,-1)\n",
    "            while(nex!=-1):\n",
    "                listaCom.append(nex)\n",
    "                nex=next(mapa,-1)\n",
    "            #listaCom: lista con el porcentaje o intervalo de porcentajes de pobreza respecto a la comunidad \n",
    "\n",
    "            #Observo si el porcentaje es de pobreza o de riqueza \n",
    "            pobreORico=(luego[(posPobreCom+6):])[:5].strip()\n",
    "            #print(pobreORico,'|',listaCom)\n",
    "            if(pobreORico==\"pobre\"):\n",
    "                datosrenta[\"rentacom\"]=listaCom\n",
    "            elif(pobreORico==\"rico\"):\n",
    "                listaCom.reverse()\n",
    "                datosrenta[\"rentacom\"]=[100-i for i in listaCom]            \n",
    "\n",
    "            #print(datosrenta[\"rentapais\"],'|',datosrenta[\"rentacom\"])\n",
    "        \n",
    "        #grabamos\n",
    "        datosrenta[\"rentaraw\"] = renta \n",
    "        db.user.update_one({\"_id\":doc[\"_id\"]}, {\"$set\":{\"datosrenta\":datosrenta}})"
   ]
  },
  {
   "cell_type": "code",
   "execution_count": 6,
   "metadata": {},
   "outputs": [
    {
     "name": "stderr",
     "output_type": "stream",
     "text": [
      "2021-11-13T22:08:10.076+0100\tconnected to: mongodb://localhost/\n",
      "2021-11-13T22:08:10.252+0100\texported 1625 records\n"
     ]
    }
   ],
   "source": [
    "!mongoexport --db=mirko --collection=user  --out=user.json"
   ]
  },
  {
   "cell_type": "markdown",
   "metadata": {},
   "source": [
    "para borrar lo que hemos hecho"
   ]
  },
  {
   "cell_type": "markdown",
   "metadata": {},
   "source": [
    "db.user.update_many({},{\"$unset\":{\"datosrenta\":1}})"
   ]
  }
 ],
 "metadata": {
  "kernelspec": {
   "display_name": "Python 3",
   "language": "python",
   "name": "python3"
  },
  "language_info": {
   "codemirror_mode": {
    "name": "ipython",
    "version": 3
   },
   "file_extension": ".py",
   "mimetype": "text/x-python",
   "name": "python",
   "nbconvert_exporter": "python",
   "pygments_lexer": "ipython3",
   "version": "3.8.8"
  }
 },
 "nbformat": 4,
 "nbformat_minor": 4
}
