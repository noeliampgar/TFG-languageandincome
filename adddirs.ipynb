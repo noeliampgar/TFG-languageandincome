{
 "cells": [
  {
   "cell_type": "code",
   "execution_count": 1,
   "metadata": {},
   "outputs": [
    {
     "name": "stdout",
     "output_type": "stream",
     "text": [
      "pymongo está en el sistema!\n",
      "pprint está en el sistema!\n"
     ]
    }
   ],
   "source": [
    "import sys\n",
    "# comprobar si pymongo está instalado, y hacerlo en otro caso\n",
    "try:\n",
    "    import pymongo\n",
    "    print(\"pymongo está en el sistema!\")\n",
    "except ImportError as e:\n",
    "    !{sys.executable} -m pip install --upgrade --user pymongo\n",
    "    import pymongo\n",
    "\n",
    "try:\n",
    "    import pprint\n",
    "    print(\"pprint está en el sistema!\")\n",
    "except ImportError as e:\n",
    "    !{sys.executable} -m pip install --upgrade --user pprint\n",
    "    import pprint\n",
    "\n",
    "from pprint import pprint # para mostrar los json bonitos\n",
    "from pymongo import MongoClient\n"
   ]
  },
  {
   "cell_type": "code",
   "execution_count": 2,
   "metadata": {},
   "outputs": [],
   "source": [
    "# conexión a mongo\n",
    "servidor = 'localhost'\n",
    "puerto = 27017\n",
    "\n",
    "# creara una colección tweet y otra user\n",
    "basededatos = 'mirko'\n",
    "\n",
    "client = MongoClient(servidor, puerto)\n",
    "db = client[basededatos]"
   ]
  },
  {
   "cell_type": "code",
   "execution_count": 3,
   "metadata": {},
   "outputs": [
    {
     "name": "stdout",
     "output_type": "stream",
     "text": [
      "Eliminamos tweets cuya dirección no parezca un domicilio particular\n",
      "Se han borrado 0 tweets\n"
     ]
    }
   ],
   "source": [
    "# vamos a eliminar tweets que tengan un campo direccion que no parezca de un domicilio partiular\n",
    "import pandas as pd\n",
    "\n",
    "cursor=db.tweet.find()\n",
    "print(\"Eliminamos tweets cuya dirección no parezca un domicilio particular\")\n",
    "\n",
    "#primero elimino los que no sean casas:\n",
    "\n",
    "nocasa = [\"tourism\",\"industrial\",\"amenity\",\"building\",\"highway\",\"historic\",\"shop\",\"leisure\",\"office\"]\n",
    "borradosfiltro1=0\n",
    "\n",
    "for doc in cursor:\n",
    "    if doc is not None and \"direccion\" in doc:\n",
    "        d = doc[\"direccion\"][\"address\"]\n",
    "        if any([no in d for no in nocasa]):\n",
    "            db.tweet.delete_one({\"_id\":doc[\"_id\"]})\n",
    "            borradosfiltro1 +=1\n",
    "print(\"Se han borrado\",borradosfiltro1,\"tweets\")"
   ]
  },
  {
   "cell_type": "code",
   "execution_count": 4,
   "metadata": {},
   "outputs": [
    {
     "name": "stdout",
     "output_type": "stream",
     "text": [
      "Requirement already satisfied: statistics in c:\\users\\nolat\\anaconda3\\lib\\site-packages (1.0.3.5)\n",
      "Requirement already satisfied: docutils>=0.3 in c:\\users\\nolat\\anaconda3\\lib\\site-packages (from statistics) (0.17)\n"
     ]
    }
   ],
   "source": [
    "!pip install --upgrade statistics"
   ]
  },
  {
   "cell_type": "code",
   "execution_count": 5,
   "metadata": {
    "scrolled": false
   },
   "outputs": [
    {
     "name": "stdout",
     "output_type": "stream",
     "text": [
      "se han borrado  0  usuarios\n"
     ]
    }
   ],
   "source": [
    "from collections import Counter\n",
    "\n",
    "# quitar las direcciones antiguas\n",
    "db.user.update_many({},{\"$unset\":{\"direccion\":True}})\n",
    "# ahora tenemos que añadir a cada usuario un campo direccion\n",
    "cursor = db.user.find()\n",
    "borrados=0\n",
    "for doc in cursor:\n",
    "    id = doc[\"_id\"]\n",
    "    cursor_tweet = db.tweet.find({\"userid\":id})\n",
    "    #numero de tweets de este usuario\n",
    "    total=0\n",
    "    #creo un array de direcciones para cada usuario para hallar la moda del array y quedarme así con la dir más recurrente\n",
    "    dirsuser=[]\n",
    "    for tweet in cursor_tweet:\n",
    "        dir = tweet[\"direccion\"]\n",
    "        #address = dir[\"display_name\"]\n",
    "        dirsuser.append(dir)\n",
    "        total+=1\n",
    "    if(len(dirsuser)==0):\n",
    "        #si no tiene tweets porque los he borrado en la anterior fase, entonces lo elimino\n",
    "        db.user.delete_one({\"_id\":doc[\"_id\"]})\n",
    "        borrados +=1\n",
    "    else:  \n",
    "        #print(dirsuser)\n",
    "        #calculo la moda del array diruser\n",
    "        c = Counter([dir[\"display_name\"] for dir in dirsuser])\n",
    "        mc = c.most_common(1)[0]\n",
    "        if mc[1]>len(dirsuser)//2:\n",
    "            dn = mc[0]\n",
    "            #print(mc, len(dirsuser))\n",
    "            dir_elegida = [dir for dir in dirsuser if dir[\"display_name\"]==dn][0]\n",
    "            #print(dir_elegida)\n",
    "            db.user.update_one({\"_id\":id},{\"$set\":{\"direccion\":dir_elegida}})\n",
    "        #else:\n",
    "            #print(\"No aceptado\")\n",
    "    \n",
    "print(\"se han borrado \",borrados,\" usuarios\")"
   ]
  },
  {
   "cell_type": "code",
   "execution_count": 6,
   "metadata": {},
   "outputs": [
    {
     "name": "stdout",
     "output_type": "stream",
     "text": [
      "0 borrados\n"
     ]
    }
   ],
   "source": [
    "# borramos los que han quedado sin clave direccion porque no había una moda clara\n",
    "res = db.user.delete_many({\"direccion\":{\"$exists\":0}})\n",
    "print(res.deleted_count, \"borrados\")"
   ]
  },
  {
   "cell_type": "code",
   "execution_count": 7,
   "metadata": {},
   "outputs": [
    {
     "name": "stderr",
     "output_type": "stream",
     "text": [
      "2021-11-08T21:29:54.279+0100\tconnected to: mongodb://localhost/\n",
      "2021-11-08T21:29:54.553+0100\texported 3170 records\n",
      "2021-11-08T21:29:55.241+0100\tconnected to: mongodb://localhost/\n",
      "2021-11-08T21:29:55.378+0100\texported 1698 records\n"
     ]
    }
   ],
   "source": [
    "!mongoexport --db=mirko --collection=tweet  --out=tweet.json\n",
    "!mongoexport --db=mirko --collection=user  --out=user.json"
   ]
  },
  {
   "cell_type": "markdown",
   "metadata": {
    "collapsed": true
   },
   "source": [
    "Dos ficheros, uno direcciones asociadas a secciones, y el otro secciones y renta per capita de la seccion"
   ]
  },
  {
   "cell_type": "code",
   "execution_count": null,
   "metadata": {},
   "outputs": [],
   "source": []
  }
 ],
 "metadata": {
  "kernelspec": {
   "display_name": "Python 3",
   "language": "python",
   "name": "python3"
  },
  "language_info": {
   "codemirror_mode": {
    "name": "ipython",
    "version": 3
   },
   "file_extension": ".py",
   "mimetype": "text/x-python",
   "name": "python",
   "nbconvert_exporter": "python",
   "pygments_lexer": "ipython3",
   "version": "3.8.8"
  }
 },
 "nbformat": 4,
 "nbformat_minor": 4
}
