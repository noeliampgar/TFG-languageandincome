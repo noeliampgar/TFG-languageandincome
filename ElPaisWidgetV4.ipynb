{
 "cells": [
  {
   "cell_type": "markdown",
   "metadata": {},
   "source": [
    "chromedriver\n",
    "\n",
    "http://chromedriver.storage.googleapis.com/index.html"
   ]
  },
  {
   "cell_type": "markdown",
   "metadata": {},
   "source": [
    "Está la librería? si no instalarla. Ojo, tras instalarla es buena idea hacer Kernel+Restart y volver a ejecutar este código"
   ]
  },
  {
   "cell_type": "code",
   "execution_count": 1,
   "metadata": {},
   "outputs": [
    {
     "name": "stdout",
     "output_type": "stream",
     "text": [
      "Checking required modules\n",
      "selenium  found\n",
      "pymongo  found\n",
      "pprint  found\n",
      "Done!\n"
     ]
    }
   ],
   "source": [
    "import sys\n",
    "import os.path\n",
    "from subprocess import check_call\n",
    "import importlib\n",
    "import os\n",
    "\n",
    "modules = [\"selenium\",\"pymongo\",\"pprint\"]\n",
    "print(\"Checking required modules\")\n",
    "for m in modules:\n",
    "    torch_loader = importlib.util.find_spec(m)\n",
    "    if torch_loader is not None:\n",
    "        print(m,\" found\")\n",
    "    else:\n",
    "        print(m,\" not found, installing\")\n",
    "        if 'google.colab' in sys.modules:\n",
    "            check_call([\"pip\", \"install\", \"-q\", m])\n",
    "        else:\n",
    "            check_call([sys.executable, \"-m\", \"pip\", \"install\", \"--user\", m])\n",
    "print(\"Done!\")"
   ]
  },
  {
   "cell_type": "markdown",
   "metadata": {},
   "source": [
    "Conectamos a MongoDB "
   ]
  },
  {
   "cell_type": "code",
   "execution_count": 2,
   "metadata": {},
   "outputs": [],
   "source": [
    "from pprint import pprint # para mostrar los json bonitos\n",
    "from pymongo import MongoClient\n",
    "\n",
    "# conexión a mongo\n",
    "servidor = 'localhost'\n",
    "puerto = 27017\n",
    "\n",
    "basededatos = 'mirko'\n",
    "\n",
    "client = MongoClient(servidor, puerto)\n",
    "db = client[basededatos]\n"
   ]
  },
  {
   "cell_type": "markdown",
   "metadata": {},
   "source": [
    "Cargamos la colección user, ojo porque esto borra esta coleccion\n",
    "**OJO**: esto destruye la colección anterior"
   ]
  },
  {
   "cell_type": "code",
   "execution_count": null,
   "metadata": {},
   "outputs": [],
   "source": [
    "import json # para transformar la línea leida (string) a json\n",
    "import urllib.request # para leer de la URL línea a línea\n",
    "\n",
    "\n",
    "def carga_desde_fichero(db,fichero,coleccion):\n",
    "    db[coleccion].drop() # la borramos\n",
    "    exito,error = 0,0\n",
    "    # cargamos los datos desde el fichero\n",
    "    try:\n",
    "        with urllib.request.urlopen(fichero) as f:\n",
    "        \n",
    "            for line in f:\n",
    "                line2 = line.decode(\"UTF-8\").replace(\"$\",\"\")\n",
    "                res = db[coleccion].insert_one(json.loads(line2))\n",
    "                if res.acknowledged:\n",
    "                    exito+=1\n",
    "                else:\n",
    "                    error+=1\n",
    "        print(f\"Colección {coleccion}: {exito} documentos cargados con éxito y {error} errores\")\n",
    "    except urllib.error.URLError as e:\n",
    "        print(e.reason)\n",
    "    return\n",
    "   \n",
    "\n",
    "\n",
    "fichero_user = \"https://raw.githubusercontent.com/RafaelCaballero/tdm/master/datos/userdir.json\"\n",
    "carga_desde_fichero(db,fichero_user,\"user\")\n"
   ]
  },
  {
   "cell_type": "markdown",
   "metadata": {},
   "source": [
    "Arrancar Chrome; recordar cambiar antes el camino al fichero"
   ]
  },
  {
   "cell_type": "code",
   "execution_count": 11,
   "metadata": {},
   "outputs": [],
   "source": [
    "\n",
    "chromedriver = r\"C:\\Users\\nolat\\chromedriver.exe\"\n",
    "chromedriver = r\"C:\\hlocal\\chromedriver.exe\"\n",
    "\n",
    "import os\n",
    "\n",
    "from selenium import webdriver  \n",
    "os.environ[\"webdriver.chrome.driver\"] = chromedriver\n",
    "chrome_options = webdriver.ChromeOptions()\n",
    "#chrome_options.add_argument('--no-sandbox')\n",
    "driver = webdriver.Chrome(executable_path=chromedriver,options=chrome_options)"
   ]
  },
  {
   "cell_type": "markdown",
   "metadata": {},
   "source": [
    "Descomentar y ejecutar esto solo para resetear \"renta\" si se considera necesario"
   ]
  },
  {
   "cell_type": "code",
   "execution_count": null,
   "metadata": {},
   "outputs": [],
   "source": [
    "#db.user.update_many({}, {\"$unset\":{\"renta\":1}})"
   ]
  },
  {
   "cell_type": "code",
   "execution_count": null,
   "metadata": {},
   "outputs": [],
   "source": [
    "db.user.create_index([(\"renta\",1)])"
   ]
  },
  {
   "cell_type": "code",
   "execution_count": 13,
   "metadata": {
    "scrolled": true
   },
   "outputs": [
    {
     "name": "stdout",
     "output_type": "stream",
     "text": [
      "17581694\n",
      "Dir antes de preprocesado: Carretera de LE-711 (Vega de Espinareda) por Balouta a L.P. Lugo, Rao, Navia de Suarna, Os Ancares, León, Galicia, España\n",
      "Dir después preprocesado:  Carretera de LE-711 (Vega de Espinareda) por Balouta a L.P. Lugo, Rao, Navia de Suarna, Os Ancares, León, Galicia, España\n",
      "Renta: \n",
      "\n",
      "********************************************************************************\n",
      "40604112\n",
      "Dir antes de preprocesado: Carrer Joan de Joanes, Platja de Tavernes de la Valldigna, Tavernes de la Valldigna, la Safor, València / Valencia, Comunitat Valenciana, 46760, España\n",
      "Dir después preprocesado:  Carrer Joan de Joanes, Platja de Tavernes de la Valldigna, Tavernes de la Valldigna, la Safor, València , Comunitat Valenciana, 46760, España\n",
      "Renta: \n",
      "\n",
      "********************************************************************************\n",
      "72269408\n",
      "Dir antes de preprocesado: Camí del Trabucador, Sant Carles de la Ràpita, Montsià, Tarragona, Catalunya, 43540, España\n",
      "Quitando municipality\n",
      "Dir después preprocesado:  Camí del Trabucador, Sant Carles de la Ràpita,  Tarragona, Catalunya, 43540, España\n",
      "Renta: \n",
      "\n",
      "********************************************************************************\n",
      "3006726459\n",
      "Dir antes de preprocesado: Calle Río Adra, Grupo Ribes Pla, Grup Sant Bernat, Castelló de la Plana, la Plana Alta, Castelló / Castellón, Comunitat Valenciana, 12001, España\n",
      "Dir después preprocesado:  Calle Río Adra, Grupo Ribes Pla, Grup Sant Bernat, Castelló de la Plana, la Plana Alta, Castelló , Comunitat Valenciana, 12001, España\n",
      "Renta: \n",
      "\n",
      "********************************************************************************\n",
      "347346572\n",
      "Dir antes de preprocesado: Fuente del cementerio, Calle Real, Albolote, Comarca de la Vega de Granada, Granada, Andalucía, 18220, España\n",
      "Quitando municipality\n",
      "Dir después preprocesado:  Fuente del cementerio, Calle Real, Albolote,  Granada, Andalucía, 18220, España\n",
      "Renta: \n",
      "\n",
      "********************************************************************************\n",
      "66101383\n",
      "Dir antes de preprocesado: Tarifa, Campo de Gibraltar, Cádiz, Andalucía, 11380, España\n",
      "Dir después preprocesado:  Tarifa, Campo de Gibraltar, Cádiz, Andalucía, 11380, España\n",
      "Renta: \n",
      "\n",
      "********************************************************************************\n",
      "1302707109059010563\n",
      "Dir antes de preprocesado: Manilva, Costa del Sol Occidental, Málaga, Andalucía, 29690, España\n",
      "Dir después preprocesado:  Manilva, Costa del Sol Occidental, Málaga, Andalucía, 29690, España\n"
     ]
    },
    {
     "ename": "KeyboardInterrupt",
     "evalue": "",
     "output_type": "error",
     "traceback": [
      "\u001b[1;31m---------------------------------------------------------------------------\u001b[0m",
      "\u001b[1;31mKeyboardInterrupt\u001b[0m                         Traceback (most recent call last)",
      "\u001b[1;32m<ipython-input-13-d75344affd8f>\u001b[0m in \u001b[0;36m<module>\u001b[1;34m\u001b[0m\n\u001b[0;32m     50\u001b[0m     \u001b[0mdir\u001b[0m \u001b[1;33m=\u001b[0m \u001b[0mquita_barra\u001b[0m\u001b[1;33m(\u001b[0m\u001b[0mdir\u001b[0m\u001b[1;33m)\u001b[0m\u001b[1;33m\u001b[0m\u001b[1;33m\u001b[0m\u001b[0m\n\u001b[0;32m     51\u001b[0m     \u001b[0mprint\u001b[0m\u001b[1;33m(\u001b[0m\u001b[1;34m\"Dir después preprocesado: \"\u001b[0m\u001b[1;33m,\u001b[0m \u001b[0mdir\u001b[0m\u001b[1;33m)\u001b[0m\u001b[1;33m\u001b[0m\u001b[1;33m\u001b[0m\u001b[0m\n\u001b[1;32m---> 52\u001b[1;33m     \u001b[0mrenta\u001b[0m \u001b[1;33m=\u001b[0m \u001b[0minfo\u001b[0m\u001b[1;33m(\u001b[0m\u001b[0mdriver\u001b[0m\u001b[1;33m,\u001b[0m\u001b[0mdir\u001b[0m\u001b[1;33m)\u001b[0m\u001b[1;33m\u001b[0m\u001b[1;33m\u001b[0m\u001b[0m\n\u001b[0m\u001b[0;32m     53\u001b[0m     \u001b[0mprint\u001b[0m\u001b[1;33m(\u001b[0m\u001b[1;34m\"Renta: \"\u001b[0m\u001b[1;33m)\u001b[0m\u001b[1;33m\u001b[0m\u001b[1;33m\u001b[0m\u001b[0m\n\u001b[0;32m     54\u001b[0m     \u001b[0mprint\u001b[0m\u001b[1;33m(\u001b[0m\u001b[0mrenta\u001b[0m\u001b[1;33m)\u001b[0m\u001b[1;33m\u001b[0m\u001b[1;33m\u001b[0m\u001b[0m\n",
      "\u001b[1;32m<ipython-input-13-d75344affd8f>\u001b[0m in \u001b[0;36minfo\u001b[1;34m(driver, calle)\u001b[0m\n\u001b[0;32m     11\u001b[0m     \u001b[0mtime\u001b[0m\u001b[1;33m.\u001b[0m\u001b[0msleep\u001b[0m\u001b[1;33m(\u001b[0m\u001b[1;36m2\u001b[0m\u001b[1;33m)\u001b[0m\u001b[1;33m\u001b[0m\u001b[1;33m\u001b[0m\u001b[0m\n\u001b[0;32m     12\u001b[0m     \u001b[0minput\u001b[0m\u001b[1;33m.\u001b[0m\u001b[0msend_keys\u001b[0m\u001b[1;33m(\u001b[0m\u001b[0mKeys\u001b[0m\u001b[1;33m.\u001b[0m\u001b[0mENTER\u001b[0m\u001b[1;33m)\u001b[0m\u001b[1;33m\u001b[0m\u001b[1;33m\u001b[0m\u001b[0m\n\u001b[1;32m---> 13\u001b[1;33m     \u001b[0mtime\u001b[0m\u001b[1;33m.\u001b[0m\u001b[0msleep\u001b[0m\u001b[1;33m(\u001b[0m\u001b[1;36m10\u001b[0m\u001b[1;33m)\u001b[0m\u001b[1;33m\u001b[0m\u001b[1;33m\u001b[0m\u001b[0m\n\u001b[0m\u001b[0;32m     14\u001b[0m     \u001b[0mpanel\u001b[0m \u001b[1;33m=\u001b[0m \u001b[0mdriver\u001b[0m\u001b[1;33m.\u001b[0m\u001b[0mfind_element_by_id\u001b[0m\u001b[1;33m(\u001b[0m\u001b[1;34m\"panel-info\"\u001b[0m\u001b[1;33m)\u001b[0m\u001b[1;33m\u001b[0m\u001b[1;33m\u001b[0m\u001b[0m\n\u001b[0;32m     15\u001b[0m     \u001b[1;32mreturn\u001b[0m \u001b[0mpanel\u001b[0m\u001b[1;33m.\u001b[0m\u001b[0mtext\u001b[0m\u001b[1;33m\u001b[0m\u001b[1;33m\u001b[0m\u001b[0m\n",
      "\u001b[1;31mKeyboardInterrupt\u001b[0m: "
     ]
    }
   ],
   "source": [
    "from collections import Counter\n",
    "from selenium.webdriver.common.keys import Keys\n",
    "import time\n",
    "\n",
    "def info(driver,calle):\n",
    "    url=\"https://widgets.elpais.com/mapbox/2021/04/renta-secciones/\"\n",
    "    driver.get(url) # abre\n",
    "    input = driver.find_element_by_tag_name(\"input\") # solo hay 1 por fortuna\n",
    "    input.clear()\n",
    "    input.send_keys(calle) # aquí poner la dirección\n",
    "    time.sleep(2)\n",
    "    input.send_keys(Keys.ENTER)\n",
    "    time.sleep(10)\n",
    "    panel = driver.find_element_by_id(\"panel-info\")\n",
    "    return panel.text\n",
    "\n",
    "def quita_municipality(dir,doc):\n",
    "    if \"address\" in doc[\"direccion\"] and 'municipality' in doc[\"direccion\"][\"address\"]:\n",
    "        print(\"Quitando municipality\")\n",
    "        dir = dir.replace(doc[\"direccion\"][\"address\"][\"municipality\"]+\",\",\"\")\n",
    "    return dir\n",
    "\n",
    "def quita_barra(dir):\n",
    "    if \"/\" in dir:\n",
    "        #print(\"Quitando barra de \",dir)\n",
    "        pos = dir.index(\"/\")\n",
    "        #print(\"/ pos\",pos)\n",
    "        if \",\" in dir[pos:]:\n",
    "            poscoma = dir[pos:].index(\",\")\n",
    "            #print(\"pos coma\",poscoma)\n",
    "            dir = dir[:pos]+dir[(pos+poscoma):]\n",
    "            #print(\"dir cambiado\",dir)\n",
    "            dir = quita_barra(dir) # por si hay más barras\n",
    "    return dir\n",
    "\n",
    "# quitar las direcciones antiguas\n",
    "# ahora tenemos que añadir a cada usuario un campo direccion\n",
    "cursor = db.user.find({\"$or\": [{\"renta\":{\"$exists\":False}},{\"renta\":\"\"}]})\n",
    "borrados=0\n",
    "for doc in cursor:\n",
    "    print(doc[\"_id\"])\n",
    "    #print(doc[\"direccion\"])\n",
    "    dir=doc[\"direccion\"][\"display_name\"]\n",
    "    print(\"Dir antes de preprocesado:\",dir)\n",
    "    \n",
    "    ## quitamos municipality\n",
    "    dir = quita_municipality(dir,doc)\n",
    "    \n",
    "    ## quitamos desde '/' hasta ',' (sin incluir)? os lo dejo a vosotras\n",
    "    dir = quita_barra(dir)\n",
    "    print(\"Dir después preprocesado: \", dir)\n",
    "    renta = info(driver,dir)\n",
    "    print(\"Renta: \")\n",
    "    print(renta)\n",
    "    db.user.update_one({\"_id\":doc[\"_id\"]}, {\"$set\":{\"renta\":renta}})\n",
    "    print(\"*\"*80)\n"
   ]
  },
  {
   "cell_type": "markdown",
   "metadata": {},
   "source": [
    "Por si hemos visto error en alguno concreto y queremos quitarle renta"
   ]
  },
  {
   "cell_type": "code",
   "execution_count": null,
   "metadata": {},
   "outputs": [],
   "source": [
    "db.user.update_one({\"_id\":\"215661586\"}, {\"$unset\":{\"renta\":1}})"
   ]
  },
  {
   "cell_type": "code",
   "execution_count": null,
   "metadata": {},
   "outputs": [],
   "source": []
  }
 ],
 "metadata": {
  "kernelspec": {
   "display_name": "Python 3",
   "language": "python",
   "name": "python3"
  },
  "language_info": {
   "codemirror_mode": {
    "name": "ipython",
    "version": 3
   },
   "file_extension": ".py",
   "mimetype": "text/x-python",
   "name": "python",
   "nbconvert_exporter": "python",
   "pygments_lexer": "ipython3",
   "version": "3.8.5"
  }
 },
 "nbformat": 4,
 "nbformat_minor": 4
}
